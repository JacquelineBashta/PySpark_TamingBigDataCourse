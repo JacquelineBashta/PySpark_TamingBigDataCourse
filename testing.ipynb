{
 "cells": [
  {
   "cell_type": "code",
   "execution_count": 1,
   "metadata": {},
   "outputs": [],
   "source": [
    "from pyspark import SparkConf, SparkContext\n",
    "\n",
    "conf = SparkConf().setMaster(\"local\").setAppName(\"MinTemp\")\n",
    "sc = SparkContext(conf=conf)"
   ]
  },
  {
   "cell_type": "code",
   "execution_count": 2,
   "metadata": {},
   "outputs": [
    {
     "data": {
      "text/html": [
       "\n",
       "        <div>\n",
       "            <p><b>SparkContext</b></p>\n",
       "\n",
       "            <p><a href=\"http://Jojja.fritz.box:4040\">Spark UI</a></p>\n",
       "\n",
       "            <dl>\n",
       "              <dt>Version</dt>\n",
       "                <dd><code>v3.5.1</code></dd>\n",
       "              <dt>Master</dt>\n",
       "                <dd><code>local</code></dd>\n",
       "              <dt>AppName</dt>\n",
       "                <dd><code>MinTemp</code></dd>\n",
       "            </dl>\n",
       "        </div>\n",
       "        "
      ],
      "text/plain": [
       "<SparkContext master=local appName=MinTemp>"
      ]
     },
     "execution_count": 2,
     "metadata": {},
     "output_type": "execute_result"
    }
   ],
   "source": [
    "sc"
   ]
  },
  {
   "cell_type": "code",
   "execution_count": 3,
   "metadata": {},
   "outputs": [],
   "source": [
    "lines_rdd = sc.textFile(\"16_1800.csv\")"
   ]
  },
  {
   "cell_type": "code",
   "execution_count": 14,
   "metadata": {},
   "outputs": [],
   "source": [
    "STATION_ID = 0\n",
    "DATA_TYPE =2\n",
    "TEMP = 3"
   ]
  },
  {
   "cell_type": "code",
   "execution_count": 19,
   "metadata": {},
   "outputs": [],
   "source": [
    "def split_line(line):\n",
    "    cols = line.split(\",\")\n",
    "    station = str(cols[STATION_ID])\n",
    "    which_data = str(cols[DATA_TYPE])\n",
    "    temp = float(cols[TEMP])* 0.1 * (9.0 / 5.0) + 32.0\n",
    "    return (station,which_data,temp)"
   ]
  },
  {
   "cell_type": "code",
   "execution_count": 24,
   "metadata": {},
   "outputs": [
    {
     "name": "stdout",
     "output_type": "stream",
     "text": [
      "ITE00100554 Station reported 5.36C\n",
      "EZE00100082 Station reported 7.7C\n"
     ]
    }
   ],
   "source": [
    "my_rdd = (\n",
    "    lines_rdd\n",
    "    .map(split_line)\n",
    "    .filter(lambda x : \"TMIN\" in x[1])\n",
    "    .map(lambda x : (x[0], x[2]))\n",
    "    .reduceByKey(lambda x,y : min(x,y))\n",
    "    .collect()\n",
    "    #.min(key=lambda x: x[1])\n",
    "    )\n",
    "\n",
    "for result in my_rdd:\n",
    "    print(f\"{result[0]} Station reported {round(result[1],2)}C\")"
   ]
  },
  {
   "cell_type": "code",
   "execution_count": 25,
   "metadata": {},
   "outputs": [
    {
     "name": "stdout",
     "output_type": "stream",
     "text": [
      "ITE00100554 Station reported 90.14C\n",
      "EZE00100082 Station reported 90.14C\n"
     ]
    }
   ],
   "source": [
    "my_max_rdd = (\n",
    "    lines_rdd\n",
    "    .map(split_line)\n",
    "    .filter(lambda x : \"TMAX\" in x[1])\n",
    "    .map(lambda x : (x[0], x[2]))\n",
    "    .reduceByKey(lambda x,y : max(x,y))\n",
    "    .collect()\n",
    "    #.min(key=lambda x: x[1])\n",
    "    )\n",
    "\n",
    "for result in my_max_rdd:\n",
    "    print(f\"{result[0]} Station reported {round(result[1],2)}C\")"
   ]
  },
  {
   "cell_type": "code",
   "execution_count": 26,
   "metadata": {},
   "outputs": [],
   "source": [
    "def another_split_line(line):\n",
    "    return line.split(\",\")"
   ]
  },
  {
   "cell_type": "code",
   "execution_count": 33,
   "metadata": {},
   "outputs": [
    {
     "data": {
      "text/plain": [
       "['ITE00100554', '18000101', 'TMAX', '-75', '', '', 'E', '']"
      ]
     },
     "execution_count": 33,
     "metadata": {},
     "output_type": "execute_result"
    }
   ],
   "source": [
    "my_ano_rdd = (\n",
    "    sc.textFile(\"16_1800.csv\")\n",
    "    .map(another_split_line)\n",
    "    )\n",
    "my_ano_rdd.first()"
   ]
  },
  {
   "cell_type": "code",
   "execution_count": 32,
   "metadata": {},
   "outputs": [
    {
     "data": {
      "text/plain": [
       "'ITE00100554'"
      ]
     },
     "execution_count": 32,
     "metadata": {},
     "output_type": "execute_result"
    }
   ],
   "source": [
    "my_ano_rdd_2 = (\n",
    "    sc.textFile(\"16_1800.csv\")\n",
    "    .flatMap(another_split_line)\n",
    "    )\n",
    "my_ano_rdd_2.first()"
   ]
  },
  {
   "cell_type": "code",
   "execution_count": 38,
   "metadata": {},
   "outputs": [
    {
     "ename": "TypeError",
     "evalue": "SparkContext.textFile() got an unexpected keyword argument 'encoding'",
     "output_type": "error",
     "traceback": [
      "\u001b[1;31m---------------------------------------------------------------------------\u001b[0m",
      "\u001b[1;31mTypeError\u001b[0m                                 Traceback (most recent call last)",
      "Cell \u001b[1;32mIn[38], line 1\u001b[0m\n\u001b[1;32m----> 1\u001b[0m my_data \u001b[38;5;241m=\u001b[39m \u001b[43msc\u001b[49m\u001b[38;5;241;43m.\u001b[39;49m\u001b[43mtextFile\u001b[49m\u001b[43m(\u001b[49m\u001b[38;5;124;43m\"\u001b[39;49m\u001b[38;5;124;43m19_Book.txt\u001b[39;49m\u001b[38;5;124;43m\"\u001b[39;49m\u001b[43m,\u001b[49m\u001b[43mencoding\u001b[49m\u001b[38;5;241;43m=\u001b[39;49m\u001b[38;5;124;43m\"\u001b[39;49m\u001b[38;5;124;43mutf-8\u001b[39;49m\u001b[38;5;124;43m\"\u001b[39;49m\u001b[43m)\u001b[49m\n\u001b[0;32m      2\u001b[0m my_data \u001b[38;5;241m=\u001b[39m (my_data\n\u001b[0;32m      3\u001b[0m            \u001b[38;5;241m.\u001b[39mflatMap( \u001b[38;5;28;01mlambda\u001b[39;00m x: x\u001b[38;5;241m.\u001b[39msplit(\u001b[38;5;124m\"\u001b[39m\u001b[38;5;124m \u001b[39m\u001b[38;5;124m\"\u001b[39m))\n\u001b[0;32m      4\u001b[0m            \u001b[38;5;241m.\u001b[39mmap(\u001b[38;5;28;01mlambda\u001b[39;00m x: (x,\u001b[38;5;241m1\u001b[39m))\n\u001b[0;32m      5\u001b[0m            \u001b[38;5;241m.\u001b[39mreduceByKey(\u001b[38;5;28;01mlambda\u001b[39;00m x,y: x\u001b[38;5;241m+\u001b[39my)\n\u001b[0;32m      6\u001b[0m            )\n\u001b[0;32m      7\u001b[0m my_data\u001b[38;5;241m.\u001b[39mtop(\u001b[38;5;241m5\u001b[39m)\n",
      "\u001b[1;31mTypeError\u001b[0m: SparkContext.textFile() got an unexpected keyword argument 'encoding'"
     ]
    },
    {
     "ename": "",
     "evalue": "",
     "output_type": "error",
     "traceback": [
      "\u001b[1;31mThe Kernel crashed while executing code in the current cell or a previous cell. \n",
      "\u001b[1;31mPlease review the code in the cell(s) to identify a possible cause of the failure. \n",
      "\u001b[1;31mClick <a href='https://aka.ms/vscodeJupyterKernelCrash'>here</a> for more info. \n",
      "\u001b[1;31mView Jupyter <a href='command:jupyter.viewOutput'>log</a> for further details."
     ]
    }
   ],
   "source": [
    "my_data = sc.wholeT(\"19_Book.txt\",encoding=\"utf-8\")\n",
    "my_data = (my_data\n",
    "           .flatMap( lambda x: x.split(\" \"))\n",
    "           .map(lambda x: (x,1))\n",
    "           .reduceByKey(lambda x,y: x+y)\n",
    "           )\n",
    "my_data.top(5)\n",
    "for word_tuple in my_data.collect():\n",
    "    print(f\"{word_tuple[0]} {word_tuple[1]}\")"
   ]
  }
 ],
 "metadata": {
  "kernelspec": {
   "display_name": "Python 3",
   "language": "python",
   "name": "python3"
  },
  "language_info": {
   "codemirror_mode": {
    "name": "ipython",
    "version": 3
   },
   "file_extension": ".py",
   "mimetype": "text/x-python",
   "name": "python",
   "nbconvert_exporter": "python",
   "pygments_lexer": "ipython3",
   "version": "3.11.2"
  }
 },
 "nbformat": 4,
 "nbformat_minor": 2
}
